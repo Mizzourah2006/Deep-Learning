{
 "cells": [
  {
   "cell_type": "code",
   "execution_count": 50,
   "metadata": {
    "collapsed": true
   },
   "outputs": [],
   "source": [
    "# importing the libraries\n",
    "import numpy as np\n",
    "import matplotlib.pyplot as plt\n",
    "% matplotlib inline\n",
    "import pandas as pd"
   ]
  },
  {
   "cell_type": "code",
   "execution_count": 51,
   "metadata": {},
   "outputs": [
    {
     "data": {
      "text/html": [
       "<div>\n",
       "<style>\n",
       "    .dataframe thead tr:only-child th {\n",
       "        text-align: right;\n",
       "    }\n",
       "\n",
       "    .dataframe thead th {\n",
       "        text-align: left;\n",
       "    }\n",
       "\n",
       "    .dataframe tbody tr th {\n",
       "        vertical-align: top;\n",
       "    }\n",
       "</style>\n",
       "<table border=\"1\" class=\"dataframe\">\n",
       "  <thead>\n",
       "    <tr style=\"text-align: right;\">\n",
       "      <th></th>\n",
       "      <th>Date</th>\n",
       "      <th>Open</th>\n",
       "      <th>High</th>\n",
       "      <th>Low</th>\n",
       "      <th>Close</th>\n",
       "      <th>Adj Close</th>\n",
       "      <th>Volume</th>\n",
       "    </tr>\n",
       "  </thead>\n",
       "  <tbody>\n",
       "    <tr>\n",
       "      <th>2715</th>\n",
       "      <td>10/13/17</td>\n",
       "      <td>86.239998</td>\n",
       "      <td>86.949997</td>\n",
       "      <td>86.239998</td>\n",
       "      <td>86.620003</td>\n",
       "      <td>86.165894</td>\n",
       "      <td>9389000</td>\n",
       "    </tr>\n",
       "    <tr>\n",
       "      <th>2716</th>\n",
       "      <td>10/16/17</td>\n",
       "      <td>86.580002</td>\n",
       "      <td>86.620003</td>\n",
       "      <td>85.019997</td>\n",
       "      <td>85.739998</td>\n",
       "      <td>85.290497</td>\n",
       "      <td>9300300</td>\n",
       "    </tr>\n",
       "    <tr>\n",
       "      <th>2717</th>\n",
       "      <td>10/17/17</td>\n",
       "      <td>85.500000</td>\n",
       "      <td>86.360001</td>\n",
       "      <td>85.320000</td>\n",
       "      <td>85.980003</td>\n",
       "      <td>85.529243</td>\n",
       "      <td>5851500</td>\n",
       "    </tr>\n",
       "    <tr>\n",
       "      <th>2718</th>\n",
       "      <td>10/18/17</td>\n",
       "      <td>86.150002</td>\n",
       "      <td>86.370003</td>\n",
       "      <td>86.010002</td>\n",
       "      <td>86.220001</td>\n",
       "      <td>85.767982</td>\n",
       "      <td>5472100</td>\n",
       "    </tr>\n",
       "    <tr>\n",
       "      <th>2719</th>\n",
       "      <td>10/19/17</td>\n",
       "      <td>86.150002</td>\n",
       "      <td>86.660004</td>\n",
       "      <td>85.769997</td>\n",
       "      <td>86.400002</td>\n",
       "      <td>85.947044</td>\n",
       "      <td>7029000</td>\n",
       "    </tr>\n",
       "  </tbody>\n",
       "</table>\n",
       "</div>"
      ],
      "text/plain": [
       "          Date       Open       High        Low      Close  Adj Close   Volume\n",
       "2715  10/13/17  86.239998  86.949997  86.239998  86.620003  86.165894  9389000\n",
       "2716  10/16/17  86.580002  86.620003  85.019997  85.739998  85.290497  9300300\n",
       "2717  10/17/17  85.500000  86.360001  85.320000  85.980003  85.529243  5851500\n",
       "2718  10/18/17  86.150002  86.370003  86.010002  86.220001  85.767982  5472100\n",
       "2719  10/19/17  86.150002  86.660004  85.769997  86.400002  85.947044  7029000"
      ]
     },
     "execution_count": 51,
     "metadata": {},
     "output_type": "execute_result"
    }
   ],
   "source": [
    "dataset_train = pd.read_csv('Walmart_Stock_Price_Train.csv')\n",
    "dataset_train.tail()"
   ]
  },
  {
   "cell_type": "code",
   "execution_count": 52,
   "metadata": {},
   "outputs": [
    {
     "data": {
      "text/plain": [
       "array([ 36.573868])"
      ]
     },
     "execution_count": 52,
     "metadata": {},
     "output_type": "execute_result"
    }
   ],
   "source": [
    "training_set = dataset_train.iloc[:,5:6].values\n",
    "# adding the : makes this a 2-dimensional numpy array instead of a vector\n",
    "training_set[0]"
   ]
  },
  {
   "cell_type": "code",
   "execution_count": 53,
   "metadata": {
    "collapsed": true
   },
   "outputs": [],
   "source": [
    "# Feature Scaling\n",
    "from sklearn.preprocessing import MinMaxScaler\n",
    "sc = MinMaxScaler()\n",
    "training_set_scaled = sc.fit_transform(training_set)"
   ]
  },
  {
   "cell_type": "markdown",
   "metadata": {},
   "source": [
    "Using the previous 120 days as inputs into the Recurrent Neural Network"
   ]
  },
  {
   "cell_type": "code",
   "execution_count": 54,
   "metadata": {},
   "outputs": [],
   "source": [
    "# Creating a data structure with 120 timesteps and 1 output\n",
    "X_train = []\n",
    "y_train = []\n",
    "\n",
    "for i in range(120,2720):\n",
    "    X_train.append(training_set_scaled[i-120:i,0])\n",
    "    y_train.append(training_set_scaled[i,0])"
   ]
  },
  {
   "cell_type": "code",
   "execution_count": 55,
   "metadata": {},
   "outputs": [],
   "source": [
    "#into a numpy array\n",
    "X_train,y_train = np.array(X_train), np.array(y_train)"
   ]
  },
  {
   "cell_type": "code",
   "execution_count": 56,
   "metadata": {},
   "outputs": [],
   "source": [
    "# Reshaping\n",
    "# we want to make sure it is a 3-D tensor. \n",
    "#First input is the shape of the rows in the np array. \n",
    "#second input is shape of the columns in the np array  \n",
    "# and the third is any additional factors, perhaps the closing stock price. \n",
    "X_train = np.reshape(X_train,(X_train.shape[0],X_train.shape[1],1))"
   ]
  },
  {
   "cell_type": "code",
   "execution_count": 12,
   "metadata": {},
   "outputs": [
    {
     "name": "stderr",
     "output_type": "stream",
     "text": [
      "Using TensorFlow backend.\n"
     ]
    }
   ],
   "source": [
    "# Importing the Keras libraries and packages\n",
    "from keras.models import Sequential\n",
    "from keras.layers import Dense\n",
    "from keras.layers import LSTM\n",
    "from keras.layers import Dropout"
   ]
  },
  {
   "cell_type": "code",
   "execution_count": 57,
   "metadata": {
    "collapsed": true
   },
   "outputs": [],
   "source": [
    "# Initialising the RNN\n",
    "regressor = Sequential()"
   ]
  },
  {
   "cell_type": "code",
   "execution_count": 58,
   "metadata": {
    "collapsed": true
   },
   "outputs": [],
   "source": [
    "# Adding the input layer and the LSTM layer and Dropout regularization\n",
    "# units = neurons in the layer\n",
    "regressor.add(LSTM(units = 100, return_sequences = True, input_shape = (X_train.shape[1],1)))\n",
    "regressor.add(Dropout(0.2))"
   ]
  },
  {
   "cell_type": "code",
   "execution_count": 59,
   "metadata": {
    "collapsed": true
   },
   "outputs": [],
   "source": [
    "# Adding the second LSTM layer and some Dropout regularization\n",
    "regressor.add(LSTM(units = 100, return_sequences = True))\n",
    "regressor.add(Dropout(0.2))"
   ]
  },
  {
   "cell_type": "code",
   "execution_count": 60,
   "metadata": {
    "collapsed": true
   },
   "outputs": [],
   "source": [
    "# Adding the third LSTM layer and some Dropout regularization\n",
    "regressor.add(LSTM(units = 100, return_sequences = True))\n",
    "regressor.add(Dropout(0.2))"
   ]
  },
  {
   "cell_type": "code",
   "execution_count": 61,
   "metadata": {
    "collapsed": true
   },
   "outputs": [],
   "source": [
    "# Adding the fourth LSTM layer and some Dropout regularization\n",
    "regressor.add(LSTM(units = 100))\n",
    "regressor.add(Dropout(0.2))"
   ]
  },
  {
   "cell_type": "code",
   "execution_count": 62,
   "metadata": {
    "collapsed": true
   },
   "outputs": [],
   "source": [
    "# Adding the output layer\n",
    "regressor.add(Dense(units = 1))"
   ]
  },
  {
   "cell_type": "code",
   "execution_count": 63,
   "metadata": {
    "collapsed": true
   },
   "outputs": [],
   "source": [
    "# Compiling the RNN\n",
    "regressor.compile(optimizer = 'adam', loss = 'mean_squared_error')"
   ]
  },
  {
   "cell_type": "code",
   "execution_count": 64,
   "metadata": {},
   "outputs": [
    {
     "name": "stdout",
     "output_type": "stream",
     "text": [
      "Epoch 1/50\n",
      "2600/2600 [==============================] - 87s - loss: 0.0149    \n",
      "Epoch 2/50\n",
      "2600/2600 [==============================] - 82s - loss: 0.0027    \n",
      "Epoch 3/50\n",
      "2600/2600 [==============================] - 81s - loss: 0.0026    \n",
      "Epoch 4/50\n",
      "2600/2600 [==============================] - 82s - loss: 0.0020    \n",
      "Epoch 5/50\n",
      "2600/2600 [==============================] - 82s - loss: 0.0023    \n",
      "Epoch 6/50\n",
      "2600/2600 [==============================] - 82s - loss: 0.0022    \n",
      "Epoch 7/50\n",
      "2600/2600 [==============================] - 81s - loss: 0.0019    \n",
      "Epoch 8/50\n",
      "2600/2600 [==============================] - 82s - loss: 0.0017    \n",
      "Epoch 9/50\n",
      "2600/2600 [==============================] - 410s - loss: 0.0018   \n",
      "Epoch 10/50\n",
      "2600/2600 [==============================] - 82s - loss: 0.0021    \n",
      "Epoch 11/50\n",
      "2600/2600 [==============================] - 81s - loss: 0.0016    \n",
      "Epoch 12/50\n",
      "2600/2600 [==============================] - 81s - loss: 0.0015    \n",
      "Epoch 13/50\n",
      "2600/2600 [==============================] - 81s - loss: 0.0015    \n",
      "Epoch 14/50\n",
      "2600/2600 [==============================] - 81s - loss: 0.0016    \n",
      "Epoch 15/50\n",
      "2600/2600 [==============================] - 81s - loss: 0.0014    \n",
      "Epoch 16/50\n",
      "2600/2600 [==============================] - 81s - loss: 0.0014    \n",
      "Epoch 17/50\n",
      "2600/2600 [==============================] - 7312s - loss: 0.0014   \n",
      "Epoch 18/50\n",
      "2600/2600 [==============================] - 16478s - loss: 0.0013  \n",
      "Epoch 19/50\n",
      "2600/2600 [==============================] - 11676s - loss: 0.0014  \n",
      "Epoch 20/50\n",
      "2600/2600 [==============================] - 82s - loss: 0.0014    \n",
      "Epoch 21/50\n",
      "2600/2600 [==============================] - 1375s - loss: 0.0012  \n",
      "Epoch 22/50\n",
      "2600/2600 [==============================] - 83s - loss: 0.0013    \n",
      "Epoch 23/50\n",
      "2600/2600 [==============================] - 82s - loss: 0.0012    \n",
      "Epoch 24/50\n",
      "2600/2600 [==============================] - 81s - loss: 0.0012    \n",
      "Epoch 25/50\n",
      "2600/2600 [==============================] - 82s - loss: 0.0011    \n",
      "Epoch 26/50\n",
      "2600/2600 [==============================] - 85s - loss: 0.0011    \n",
      "Epoch 27/50\n",
      "2600/2600 [==============================] - 82s - loss: 0.0011    \n",
      "Epoch 28/50\n",
      "2600/2600 [==============================] - 81s - loss: 0.0011    \n",
      "Epoch 29/50\n",
      "2600/2600 [==============================] - 82s - loss: 0.0011    \n",
      "Epoch 30/50\n",
      "2600/2600 [==============================] - 81s - loss: 0.0010        \n",
      "Epoch 31/50\n",
      "2600/2600 [==============================] - 82s - loss: 0.0010      \n",
      "Epoch 32/50\n",
      "2600/2600 [==============================] - 82s - loss: 0.0011    \n",
      "Epoch 33/50\n",
      "2600/2600 [==============================] - 82s - loss: 9.7870e-04    \n",
      "Epoch 34/50\n",
      "2600/2600 [==============================] - 82s - loss: 9.4382e-04    \n",
      "Epoch 35/50\n",
      "2600/2600 [==============================] - 82s - loss: 9.3107e-04    \n",
      "Epoch 36/50\n",
      "2600/2600 [==============================] - 84s - loss: 9.1936e-04    \n",
      "Epoch 37/50\n",
      "2600/2600 [==============================] - 85s - loss: 8.8626e-04    \n",
      "Epoch 38/50\n",
      "2600/2600 [==============================] - 85s - loss: 9.0230e-04    \n",
      "Epoch 39/50\n",
      "2600/2600 [==============================] - 84s - loss: 9.6620e-04    \n",
      "Epoch 40/50\n",
      "2600/2600 [==============================] - 86s - loss: 9.0898e-04    \n",
      "Epoch 41/50\n",
      "2600/2600 [==============================] - 82s - loss: 9.9447e-04    \n",
      "Epoch 42/50\n",
      "2600/2600 [==============================] - 82s - loss: 9.4685e-04    \n",
      "Epoch 43/50\n",
      "2600/2600 [==============================] - 82s - loss: 8.0702e-04    \n",
      "Epoch 44/50\n",
      "2600/2600 [==============================] - 82s - loss: 8.2551e-04    \n",
      "Epoch 45/50\n",
      "2600/2600 [==============================] - 82s - loss: 9.0358e-04    \n",
      "Epoch 46/50\n",
      "2600/2600 [==============================] - 82s - loss: 7.8607e-04    \n",
      "Epoch 47/50\n",
      "2600/2600 [==============================] - 82s - loss: 8.0856e-04    \n",
      "Epoch 48/50\n",
      "2600/2600 [==============================] - 82s - loss: 7.9019e-04    \n",
      "Epoch 49/50\n",
      "2600/2600 [==============================] - 83s - loss: 8.0499e-04    \n",
      "Epoch 50/50\n",
      "2600/2600 [==============================] - 84s - loss: 7.5986e-04    \n"
     ]
    },
    {
     "data": {
      "text/plain": [
       "<keras.callbacks.History at 0x12ed1f0f0>"
      ]
     },
     "execution_count": 64,
     "metadata": {},
     "output_type": "execute_result"
    }
   ],
   "source": [
    "# Fitting the RNN to the Training set\n",
    "regressor.fit(X_train, y_train, batch_size = 32, epochs = 50)"
   ]
  },
  {
   "cell_type": "code",
   "execution_count": 65,
   "metadata": {},
   "outputs": [],
   "source": [
    "# Getting the real stock price of 2017\n",
    "dataset_test = pd.read_csv('Walmart_Stock_Price_Test.csv')\n",
    "real_stock_price = dataset_test.iloc[:,5:6].values"
   ]
  },
  {
   "cell_type": "code",
   "execution_count": 66,
   "metadata": {},
   "outputs": [
    {
     "data": {
      "text/plain": [
       "array([ 86.98159])"
      ]
     },
     "execution_count": 66,
     "metadata": {},
     "output_type": "execute_result"
    }
   ],
   "source": [
    "test_set = dataset_test.iloc[:,5:6].values\n",
    "# adding the : makes this a 2-dimensional numpy array instead of a vector\n",
    "test_set[0]"
   ]
  },
  {
   "cell_type": "code",
   "execution_count": 71,
   "metadata": {},
   "outputs": [
    {
     "data": {
      "text/plain": [
       "array([ 0.77420865])"
      ]
     },
     "execution_count": 71,
     "metadata": {},
     "output_type": "execute_result"
    }
   ],
   "source": [
    "# Getting the predicted stock price of end of 2017\n",
    "dataset_total = pd.concat((dataset_train['Adj Close'], dataset_test['Adj Close']),axis=0)\n",
    "inputs = dataset_total[len(dataset_total)-len(dataset_test)-120:].values\n",
    "inputs = inputs.reshape(-1,1)\n",
    "inputs = sc.transform(inputs)\n",
    "inputs[0]"
   ]
  },
  {
   "cell_type": "code",
   "execution_count": 72,
   "metadata": {},
   "outputs": [],
   "source": [
    "# Creating a data structure with 120 timesteps and 1 output\n",
    "X_test = []\n",
    "\n",
    "for i in range(120,165):\n",
    "    X_test.append(inputs[i-120:i,0])\n",
    "    \n",
    "#into a numpy array\n",
    "X_test = np.array(X_test)\n",
    "X_test = np.reshape(X_test,(X_test.shape[0],X_test.shape[1],1))"
   ]
  },
  {
   "cell_type": "code",
   "execution_count": 73,
   "metadata": {},
   "outputs": [],
   "source": [
    "predicted_stock_price = regressor.predict(X_test)\n",
    "predicted_stock_price = sc.inverse_transform(predicted_stock_price)"
   ]
  },
  {
   "cell_type": "code",
   "execution_count": 74,
   "metadata": {},
   "outputs": [
    {
     "data": {
      "image/png": "[encoded data removed]",
      "text/plain": [
       "<matplotlib.figure.Figure at 0x1356437f0>"
      ]
     },
     "metadata": {},
     "output_type": "display_data"
    }
   ],
   "source": [
    "# Visualising the results\n",
    "plt.plot(real_stock_price, color = 'red', label = 'Real Walmart Stock Price')\n",
    "plt.plot(predicted_stock_price, color = 'blue', label = 'Predicted Walmart Stock Price')\n",
    "plt.title('Walmart Stock Price Prediction')\n",
    "plt.xlabel('Time')\n",
    "plt.ylabel('Walmart Stock Price')\n",
    "plt.legend();"
   ]
  },
  {
   "cell_type": "code",
   "execution_count": null,
   "metadata": {
    "collapsed": true
   },
   "outputs": [],
   "source": []
  }
 ],
 "metadata": {
  "kernelspec": {
   "display_name": "Python 3",
   "language": "python",
   "name": "python3"
  },
  "language_info": {
   "codemirror_mode": {
    "name": "ipython",
    "version": 3
   },
   "file_extension": ".py",
   "mimetype": "text/x-python",
   "name": "python",
   "nbconvert_exporter": "python",
   "pygments_lexer": "ipython3",
   "version": "3.6.1"
  }
 },
 "nbformat": 4,
 "nbformat_minor": 2
}
